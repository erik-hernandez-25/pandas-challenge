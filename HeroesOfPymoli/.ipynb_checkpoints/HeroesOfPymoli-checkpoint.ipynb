{
 "cells": [
  {
   "cell_type": "markdown",
   "metadata": {},
   "source": [
    "### Note\n",
    "* Instructions have been included for each segment. You do not have to follow them exactly, but they are included to help you think through the steps."
   ]
  },
  {
   "cell_type": "code",
   "execution_count": 12,
   "metadata": {},
   "outputs": [
    {
     "name": "stdout",
     "output_type": "stream",
     "text": [
      "Resources/purchase_data.csv\n"
     ]
    }
   ],
   "source": [
    "# Dependencies and Setup\n",
    "import pandas as pd\n",
    "import os\n",
    "\n",
    "# File to Load (Remember to Change These)\n",
    "csvpath = os.path.join(\"Resources\",\"purchase_data.csv\")\n",
    "print(csvpath)\n",
    "\n",
    "\n",
    "# Read Purchasing File and store into Pandas data frame\n",
    "purchase_data = pd.read_csv(csvpath,delimiter=\",\")"
   ]
  },
  {
   "cell_type": "code",
   "execution_count": 13,
   "metadata": {},
   "outputs": [],
   "source": [
    "#Define function to use in the program to change the format to currency and percentage\n",
    "def currency_format(x):\n",
    "     return \"${:,.2f}\".format(x)    \n",
    "\n",
    "def percentage_format(x):\n",
    "     return round((x * 100),2).astype(str) + '%'\n",
    "\n"
   ]
  },
  {
   "cell_type": "markdown",
   "metadata": {},
   "source": [
    "## Player Count"
   ]
  },
  {
   "cell_type": "markdown",
   "metadata": {},
   "source": [
    "* Display the total number of players\n"
   ]
  },
  {
   "cell_type": "code",
   "execution_count": 14,
   "metadata": {},
   "outputs": [
    {
     "data": {
      "text/html": [
       "<div>\n",
       "<style scoped>\n",
       "    .dataframe tbody tr th:only-of-type {\n",
       "        vertical-align: middle;\n",
       "    }\n",
       "\n",
       "    .dataframe tbody tr th {\n",
       "        vertical-align: top;\n",
       "    }\n",
       "\n",
       "    .dataframe thead th {\n",
       "        text-align: right;\n",
       "    }\n",
       "</style>\n",
       "<table border=\"1\" class=\"dataframe\">\n",
       "  <thead>\n",
       "    <tr style=\"text-align: right;\">\n",
       "      <th></th>\n",
       "      <th>Total Players</th>\n",
       "    </tr>\n",
       "  </thead>\n",
       "  <tbody>\n",
       "    <tr>\n",
       "      <th>0</th>\n",
       "      <td>576</td>\n",
       "    </tr>\n",
       "  </tbody>\n",
       "</table>\n",
       "</div>"
      ],
      "text/plain": [
       "   Total Players\n",
       "0            576"
      ]
     },
     "execution_count": 14,
     "metadata": {},
     "output_type": "execute_result"
    }
   ],
   "source": [
    "#count the number of unique players\n",
    "players = purchase_data[\"SN\"].value_counts()\n",
    "total_players = pd.DataFrame({len(players)})\n",
    "total_players.columns = ['Total Players']\n",
    "total_players.head()"
   ]
  },
  {
   "cell_type": "markdown",
   "metadata": {},
   "source": [
    "## Purchasing Analysis (Total)"
   ]
  },
  {
   "cell_type": "markdown",
   "metadata": {},
   "source": [
    "* Run basic calculations to obtain number of unique items, average price, etc.\n",
    "\n",
    "\n",
    "* Create a summary data frame to hold the results\n",
    "\n",
    "\n",
    "* Optional: give the displayed data cleaner formatting\n",
    "\n",
    "\n",
    "* Display the summary data frame\n"
   ]
  },
  {
   "cell_type": "code",
   "execution_count": 15,
   "metadata": {
    "scrolled": true
   },
   "outputs": [
    {
     "data": {
      "text/html": [
       "<div>\n",
       "<style scoped>\n",
       "    .dataframe tbody tr th:only-of-type {\n",
       "        vertical-align: middle;\n",
       "    }\n",
       "\n",
       "    .dataframe tbody tr th {\n",
       "        vertical-align: top;\n",
       "    }\n",
       "\n",
       "    .dataframe thead th {\n",
       "        text-align: right;\n",
       "    }\n",
       "</style>\n",
       "<table border=\"1\" class=\"dataframe\">\n",
       "  <thead>\n",
       "    <tr style=\"text-align: right;\">\n",
       "      <th></th>\n",
       "      <th>Number of Unique Items</th>\n",
       "      <th>Average Price</th>\n",
       "      <th>Number of Purchases</th>\n",
       "      <th>Total Revenue</th>\n",
       "    </tr>\n",
       "  </thead>\n",
       "  <tbody>\n",
       "    <tr>\n",
       "      <th>0</th>\n",
       "      <td>179</td>\n",
       "      <td>$3.05</td>\n",
       "      <td>780</td>\n",
       "      <td>$2,379.77</td>\n",
       "    </tr>\n",
       "  </tbody>\n",
       "</table>\n",
       "</div>"
      ],
      "text/plain": [
       "   Number of Unique Items Average Price  Number of Purchases Total Revenue\n",
       "0                     179         $3.05                  780     $2,379.77"
      ]
     },
     "execution_count": 15,
     "metadata": {},
     "output_type": "execute_result"
    }
   ],
   "source": [
    "#Count the number of unique items and save it to unique_items variable\n",
    "unique_items = len(purchase_data[\"Item ID\"].unique())\n",
    "unique_items\n",
    "\n",
    "#Calculate the average price and use the currency format function to save avg_price variable\n",
    "avg_price = currency_format (purchase_data[\"Price\"].mean())\n",
    "\n",
    "#Count the number of purchases\n",
    "number_purchases = len(purchase_data[\"Purchase ID\"].unique())\n",
    "\n",
    "#Sum the total revenue\n",
    "total_revenue = currency_format ( purchase_data[\"Price\"].sum())\n",
    "\n",
    "summary_df = pd.DataFrame({\n",
    "    'Number of Unique Items': [unique_items],\n",
    "    'Average Price': [avg_price],\n",
    "    'Number of Purchases': [number_purchases],\n",
    "    'Total Revenue': [total_revenue]\n",
    "})\n",
    "summary_df\n"
   ]
  },
  {
   "cell_type": "markdown",
   "metadata": {},
   "source": [
    "## Gender Demographics"
   ]
  },
  {
   "cell_type": "markdown",
   "metadata": {},
   "source": [
    "* Percentage and Count of Male Players\n",
    "\n",
    "\n",
    "* Percentage and Count of Female Players\n",
    "\n",
    "\n",
    "* Percentage and Count of Other / Non-Disclosed\n",
    "\n",
    "\n"
   ]
  },
  {
   "cell_type": "code",
   "execution_count": 16,
   "metadata": {},
   "outputs": [
    {
     "data": {
      "text/html": [
       "<div>\n",
       "<style scoped>\n",
       "    .dataframe tbody tr th:only-of-type {\n",
       "        vertical-align: middle;\n",
       "    }\n",
       "\n",
       "    .dataframe tbody tr th {\n",
       "        vertical-align: top;\n",
       "    }\n",
       "\n",
       "    .dataframe thead th {\n",
       "        text-align: right;\n",
       "    }\n",
       "</style>\n",
       "<table border=\"1\" class=\"dataframe\">\n",
       "  <thead>\n",
       "    <tr style=\"text-align: right;\">\n",
       "      <th></th>\n",
       "      <th>Gender</th>\n",
       "      <th>Percentage of Players</th>\n",
       "    </tr>\n",
       "  </thead>\n",
       "  <tbody>\n",
       "    <tr>\n",
       "      <th>Male</th>\n",
       "      <td>484</td>\n",
       "      <td>84.03%</td>\n",
       "    </tr>\n",
       "    <tr>\n",
       "      <th>Female</th>\n",
       "      <td>81</td>\n",
       "      <td>14.06%</td>\n",
       "    </tr>\n",
       "    <tr>\n",
       "      <th>Other / Non-Disclosed</th>\n",
       "      <td>11</td>\n",
       "      <td>1.91%</td>\n",
       "    </tr>\n",
       "  </tbody>\n",
       "</table>\n",
       "</div>"
      ],
      "text/plain": [
       "                       Gender Percentage of Players\n",
       "Male                      484                84.03%\n",
       "Female                     81                14.06%\n",
       "Other / Non-Disclosed      11                 1.91%"
      ]
     },
     "execution_count": 16,
     "metadata": {},
     "output_type": "execute_result"
    }
   ],
   "source": [
    "#Get the unique list of players with gender removing duplicates\n",
    "unique_players = purchase_data.drop_duplicates(subset =[\"SN\",\"Gender\"])\n",
    "\n",
    "#Count the number of players by gender inside a data frame\n",
    "gender = pd.DataFrame(unique_players[\"Gender\"].value_counts())\n",
    "\n",
    "#Calculate percentage and set format with function\n",
    "percentage_gender = percentage_format((gender[\"Gender\"]/ gender[\"Gender\"].sum()).astype(float))\n",
    "\n",
    "#Add variable to dataframe\n",
    "gender[\"Percentage of Players\"] = percentage_gender\n",
    "gender\n"
   ]
  },
  {
   "cell_type": "markdown",
   "metadata": {},
   "source": [
    "\n",
    "## Purchasing Analysis (Gender)"
   ]
  },
  {
   "cell_type": "markdown",
   "metadata": {},
   "source": [
    "* Run basic calculations to obtain purchase count, avg. purchase price, avg. purchase total per person etc. by gender\n",
    "\n",
    "\n",
    "\n",
    "\n",
    "* Create a summary data frame to hold the results\n",
    "\n",
    "\n",
    "* Optional: give the displayed data cleaner formatting\n",
    "\n",
    "\n",
    "* Display the summary data frame"
   ]
  },
  {
   "cell_type": "code",
   "execution_count": 17,
   "metadata": {},
   "outputs": [
    {
     "data": {
      "text/html": [
       "<div>\n",
       "<style scoped>\n",
       "    .dataframe tbody tr th:only-of-type {\n",
       "        vertical-align: middle;\n",
       "    }\n",
       "\n",
       "    .dataframe tbody tr th {\n",
       "        vertical-align: top;\n",
       "    }\n",
       "\n",
       "    .dataframe thead th {\n",
       "        text-align: right;\n",
       "    }\n",
       "</style>\n",
       "<table border=\"1\" class=\"dataframe\">\n",
       "  <thead>\n",
       "    <tr style=\"text-align: right;\">\n",
       "      <th></th>\n",
       "      <th>Purchase ID</th>\n",
       "      <th>Average Purchase Price</th>\n",
       "      <th>Total Purchase Value</th>\n",
       "      <th>Avg Total Purchase per Person</th>\n",
       "    </tr>\n",
       "    <tr>\n",
       "      <th>Gender</th>\n",
       "      <th></th>\n",
       "      <th></th>\n",
       "      <th></th>\n",
       "      <th></th>\n",
       "    </tr>\n",
       "  </thead>\n",
       "  <tbody>\n",
       "    <tr>\n",
       "      <th>Female</th>\n",
       "      <td>113</td>\n",
       "      <td>$3.20</td>\n",
       "      <td>$361.94</td>\n",
       "      <td>$4.47</td>\n",
       "    </tr>\n",
       "    <tr>\n",
       "      <th>Male</th>\n",
       "      <td>652</td>\n",
       "      <td>$3.02</td>\n",
       "      <td>$1,967.64</td>\n",
       "      <td>$4.07</td>\n",
       "    </tr>\n",
       "    <tr>\n",
       "      <th>Other / Non-Disclosed</th>\n",
       "      <td>15</td>\n",
       "      <td>$3.35</td>\n",
       "      <td>$50.19</td>\n",
       "      <td>$4.56</td>\n",
       "    </tr>\n",
       "  </tbody>\n",
       "</table>\n",
       "</div>"
      ],
      "text/plain": [
       "                       Purchase ID Average Purchase Price  \\\n",
       "Gender                                                      \n",
       "Female                         113                  $3.20   \n",
       "Male                           652                  $3.02   \n",
       "Other / Non-Disclosed           15                  $3.35   \n",
       "\n",
       "                      Total Purchase Value Avg Total Purchase per Person  \n",
       "Gender                                                                    \n",
       "Female                             $361.94                         $4.47  \n",
       "Male                             $1,967.64                         $4.07  \n",
       "Other / Non-Disclosed               $50.19                         $4.56  "
      ]
     },
     "execution_count": 17,
     "metadata": {},
     "output_type": "execute_result"
    }
   ],
   "source": [
    "#group data by Gender variable\n",
    "grouped_purchases = purchase_data.groupby([\"Gender\"])\n",
    "\n",
    "#Count the purchases by gender\n",
    "purchase_count = pd.DataFrame(grouped_purchases[\"Purchase ID\"].count())\n",
    "\n",
    "#calculate the sum of all the and divide the by the number of purchases\n",
    "average_purchase_price = pd.DataFrame((grouped_purchases[\"Price\"].sum() / grouped_purchases[\"Price\"].count()).map('${:,.2f}'.format))\n",
    "\n",
    "#calculate all the purchase value\n",
    "total_purchase_vale = pd.DataFrame(grouped_purchases[\"Price\"].sum().map('${:,.2f}'.format))\n",
    "\n",
    "#sum the number of prices by gender and divide them by the number of unique persons defined in previous cell\n",
    "average_purchase_per_person = pd.DataFrame((grouped_purchases[\"Price\"].sum() / gender[\"Gender\"]).map('${:,.2f}'.format))\n",
    "\n",
    "#add all data to the first dataframe\n",
    "purchase_count [\"Average Purchase Price\"] = average_purchase_price\n",
    "purchase_count [\"Total Purchase Value\"] = total_purchase_vale\n",
    "purchase_count [\"Avg Total Purchase per Person\"] = average_purchase_per_person\n",
    "\n",
    "purchase_count.head()\n"
   ]
  },
  {
   "cell_type": "markdown",
   "metadata": {},
   "source": [
    "## Age Demographics"
   ]
  },
  {
   "cell_type": "markdown",
   "metadata": {},
   "source": [
    "* Establish bins for ages\n",
    "\n",
    "\n",
    "* Categorize the existing players using the age bins. Hint: use pd.cut()\n",
    "\n",
    "\n",
    "* Calculate the numbers and percentages by age group\n",
    "\n",
    "\n",
    "* Create a summary data frame to hold the results\n",
    "\n",
    "\n",
    "* Optional: round the percentage column to two decimal points\n",
    "\n",
    "\n",
    "* Display Age Demographics Table\n"
   ]
  },
  {
   "cell_type": "code",
   "execution_count": 18,
   "metadata": {},
   "outputs": [
    {
     "data": {
      "text/html": [
       "<div>\n",
       "<style scoped>\n",
       "    .dataframe tbody tr th:only-of-type {\n",
       "        vertical-align: middle;\n",
       "    }\n",
       "\n",
       "    .dataframe tbody tr th {\n",
       "        vertical-align: top;\n",
       "    }\n",
       "\n",
       "    .dataframe thead th {\n",
       "        text-align: right;\n",
       "    }\n",
       "</style>\n",
       "<table border=\"1\" class=\"dataframe\">\n",
       "  <thead>\n",
       "    <tr style=\"text-align: right;\">\n",
       "      <th></th>\n",
       "      <th>Total Count</th>\n",
       "      <th>Percentage of Players</th>\n",
       "    </tr>\n",
       "  </thead>\n",
       "  <tbody>\n",
       "    <tr>\n",
       "      <th>20-24</th>\n",
       "      <td>258</td>\n",
       "      <td>44.79%</td>\n",
       "    </tr>\n",
       "    <tr>\n",
       "      <th>15-19</th>\n",
       "      <td>107</td>\n",
       "      <td>18.58%</td>\n",
       "    </tr>\n",
       "    <tr>\n",
       "      <th>25-29</th>\n",
       "      <td>77</td>\n",
       "      <td>13.37%</td>\n",
       "    </tr>\n",
       "    <tr>\n",
       "      <th>30-34</th>\n",
       "      <td>52</td>\n",
       "      <td>9.03%</td>\n",
       "    </tr>\n",
       "    <tr>\n",
       "      <th>35-39</th>\n",
       "      <td>31</td>\n",
       "      <td>5.38%</td>\n",
       "    </tr>\n",
       "    <tr>\n",
       "      <th>10-14</th>\n",
       "      <td>22</td>\n",
       "      <td>3.82%</td>\n",
       "    </tr>\n",
       "    <tr>\n",
       "      <th>&lt;10</th>\n",
       "      <td>17</td>\n",
       "      <td>2.95%</td>\n",
       "    </tr>\n",
       "    <tr>\n",
       "      <th>40+</th>\n",
       "      <td>12</td>\n",
       "      <td>2.08%</td>\n",
       "    </tr>\n",
       "  </tbody>\n",
       "</table>\n",
       "</div>"
      ],
      "text/plain": [
       "       Total Count Percentage of Players\n",
       "20-24          258                44.79%\n",
       "15-19          107                18.58%\n",
       "25-29           77                13.37%\n",
       "30-34           52                 9.03%\n",
       "35-39           31                 5.38%\n",
       "10-14           22                 3.82%\n",
       "<10             17                 2.95%\n",
       "40+             12                 2.08%"
      ]
     },
     "execution_count": 18,
     "metadata": {},
     "output_type": "execute_result"
    }
   ],
   "source": [
    "#eliminate duplicayes to keep Player and Age\n",
    "unique_players_age = purchase_data.drop_duplicates(subset =[\"SN\",\"Age\"])\n",
    "\n",
    "#Set the lenght of each bin\n",
    "cut_bins = [0,10,15,20,25,30,35,40,200]\n",
    "\n",
    "#Use cut function to count player age per bin using the unique players-age df\n",
    "bins = pd.DataFrame(pd.cut(unique_players_age['Age'], bins=cut_bins, right = False, ordered = False, labels=[\"<10\", \"10-14\", \"15-19\",\"20-24\",\"25-29\",\"30-34\",\"35-39\",\"40+\"]).value_counts()).rename(columns = {\"Age\": \"Total Count\"})\n",
    "\n",
    "#Count the percentage of players per bin and add them to the Result DataFrame\n",
    "percentage_players = pd.DataFrame(percentage_format(bins[\"Total Count\"] / bins[\"Total Count\"].sum()))\n",
    "bins[\"Percentage of Players\"] = percentage_players\n",
    "bins\n"
   ]
  },
  {
   "cell_type": "markdown",
   "metadata": {},
   "source": [
    "## Purchasing Analysis (Age)"
   ]
  },
  {
   "cell_type": "markdown",
   "metadata": {},
   "source": [
    "* Bin the purchase_data data frame by age\n",
    "\n",
    "\n",
    "* Run basic calculations to obtain purchase count, avg. purchase price, avg. purchase total per person etc. in the table below\n",
    "\n",
    "\n",
    "* Create a summary data frame to hold the results\n",
    "\n",
    "\n",
    "* Optional: give the displayed data cleaner formatting\n",
    "\n",
    "\n",
    "* Display the summary data frame"
   ]
  },
  {
   "cell_type": "code",
   "execution_count": 19,
   "metadata": {},
   "outputs": [
    {
     "data": {
      "text/html": [
       "<div>\n",
       "<style scoped>\n",
       "    .dataframe tbody tr th:only-of-type {\n",
       "        vertical-align: middle;\n",
       "    }\n",
       "\n",
       "    .dataframe tbody tr th {\n",
       "        vertical-align: top;\n",
       "    }\n",
       "\n",
       "    .dataframe thead th {\n",
       "        text-align: right;\n",
       "    }\n",
       "</style>\n",
       "<table border=\"1\" class=\"dataframe\">\n",
       "  <thead>\n",
       "    <tr style=\"text-align: right;\">\n",
       "      <th></th>\n",
       "      <th>Purchase Count</th>\n",
       "      <th>Average Purchase Price</th>\n",
       "      <th>Total Purchase Value</th>\n",
       "      <th>Avg Total Purchase per Person</th>\n",
       "    </tr>\n",
       "    <tr>\n",
       "      <th>Age_Bin</th>\n",
       "      <th></th>\n",
       "      <th></th>\n",
       "      <th></th>\n",
       "      <th></th>\n",
       "    </tr>\n",
       "  </thead>\n",
       "  <tbody>\n",
       "    <tr>\n",
       "      <th>10-14</th>\n",
       "      <td>28</td>\n",
       "      <td>$2.96</td>\n",
       "      <td>$82.78</td>\n",
       "      <td>$3.76</td>\n",
       "    </tr>\n",
       "    <tr>\n",
       "      <th>15-19</th>\n",
       "      <td>136</td>\n",
       "      <td>$3.04</td>\n",
       "      <td>$412.89</td>\n",
       "      <td>$3.86</td>\n",
       "    </tr>\n",
       "    <tr>\n",
       "      <th>20-24</th>\n",
       "      <td>365</td>\n",
       "      <td>$3.05</td>\n",
       "      <td>$1,114.06</td>\n",
       "      <td>$4.32</td>\n",
       "    </tr>\n",
       "    <tr>\n",
       "      <th>25-29</th>\n",
       "      <td>101</td>\n",
       "      <td>$2.90</td>\n",
       "      <td>$293.00</td>\n",
       "      <td>$3.81</td>\n",
       "    </tr>\n",
       "    <tr>\n",
       "      <th>30-34</th>\n",
       "      <td>73</td>\n",
       "      <td>$2.93</td>\n",
       "      <td>$214.00</td>\n",
       "      <td>$4.12</td>\n",
       "    </tr>\n",
       "    <tr>\n",
       "      <th>35-39</th>\n",
       "      <td>41</td>\n",
       "      <td>$3.60</td>\n",
       "      <td>$147.67</td>\n",
       "      <td>$4.76</td>\n",
       "    </tr>\n",
       "    <tr>\n",
       "      <th>40+</th>\n",
       "      <td>13</td>\n",
       "      <td>$2.94</td>\n",
       "      <td>$38.24</td>\n",
       "      <td>$3.19</td>\n",
       "    </tr>\n",
       "    <tr>\n",
       "      <th>&lt;10</th>\n",
       "      <td>23</td>\n",
       "      <td>$3.35</td>\n",
       "      <td>$77.13</td>\n",
       "      <td>$4.54</td>\n",
       "    </tr>\n",
       "  </tbody>\n",
       "</table>\n",
       "</div>"
      ],
      "text/plain": [
       "         Purchase Count Average Purchase Price Total Purchase Value  \\\n",
       "Age_Bin                                                               \n",
       "10-14                28                  $2.96               $82.78   \n",
       "15-19               136                  $3.04              $412.89   \n",
       "20-24               365                  $3.05            $1,114.06   \n",
       "25-29               101                  $2.90              $293.00   \n",
       "30-34                73                  $2.93              $214.00   \n",
       "35-39                41                  $3.60              $147.67   \n",
       "40+                  13                  $2.94               $38.24   \n",
       "<10                  23                  $3.35               $77.13   \n",
       "\n",
       "        Avg Total Purchase per Person  \n",
       "Age_Bin                                \n",
       "10-14                           $3.76  \n",
       "15-19                           $3.86  \n",
       "20-24                           $4.32  \n",
       "25-29                           $3.81  \n",
       "30-34                           $4.12  \n",
       "35-39                           $4.76  \n",
       "40+                             $3.19  \n",
       "<10                             $4.54  "
      ]
     },
     "execution_count": 19,
     "metadata": {},
     "output_type": "execute_result"
    }
   ],
   "source": [
    "#set bins of age with the cut function from all data\n",
    "purchasing_analysis = pd.DataFrame(pd.cut(purchase_data[\"Age\"],bins=cut_bins, right = False, ordered = False, labels=[\"<10\", \"10-14\", \"15-19\",\"20-24\",\"25-29\",\"30-34\",\"35-39\",\"40+\"]))\n",
    "\n",
    "#Add the age bins to the original DF for analysis\n",
    "purchase_data [\"Age_Bin\"] = purchasing_analysis\n",
    "\n",
    "#Group by all date per Age Bin for simpler analysis\n",
    "grouped_purchases = purchase_data.groupby([\"Age_Bin\"])                            \n",
    "\n",
    "#Count purchases per bin\n",
    "purchase_count = pd.DataFrame(grouped_purchases[\"Age_Bin\"].count()).rename(columns = {\"Age_Bin\": \"Purchase Count\"})\n",
    "\n",
    "#sum all prices per bin\n",
    "total_purchase_value = pd.DataFrame(grouped_purchases[\"Price\"].sum().map('${:,.2f}'.format)).rename(columns = {\"Price\": \"Total Purchase Value\"})\n",
    "\n",
    "\n",
    "#Calculate the average purchase price\n",
    "average_purchase_price = pd.DataFrame((grouped_purchases[\"Price\"].sum() / grouped_purchases[\"Age_Bin\"].count()).map('${:,.2f}'.format))\n",
    "\n",
    "#Calculate the avg purchase per person using df from previous cell\n",
    "avg_purchase_per_person = pd.DataFrame((grouped_purchases[\"Price\"].sum() / bins[\"Total Count\"]).map('${:,.2f}'.format))\n",
    "\n",
    "#Add all variables to DataFrame\n",
    "purchase_count [\"Average Purchase Price\"] = average_purchase_price\n",
    "purchase_count [\"Total Purchase Value\"] = total_purchase_value\n",
    "purchase_count [\"Avg Total Purchase per Person\"] = avg_purchase_per_person\n",
    "\n",
    "purchase_count\n"
   ]
  },
  {
   "cell_type": "markdown",
   "metadata": {},
   "source": [
    "## Top Spenders"
   ]
  },
  {
   "cell_type": "markdown",
   "metadata": {},
   "source": [
    "* Run basic calculations to obtain the results in the table below\n",
    "\n",
    "\n",
    "* Create a summary data frame to hold the results\n",
    "\n",
    "\n",
    "* Sort the total purchase value column in descending order\n",
    "\n",
    "\n",
    "* Optional: give the displayed data cleaner formatting\n",
    "\n",
    "\n",
    "* Display a preview of the summary data frame\n",
    "\n"
   ]
  },
  {
   "cell_type": "code",
   "execution_count": 20,
   "metadata": {},
   "outputs": [
    {
     "data": {
      "text/html": [
       "<style  type=\"text/css\" >\n",
       "</style><table id=\"T_dff54_\" ><thead>    <tr>        <th class=\"blank level0\" ></th>        <th class=\"col_heading level0 col0\" >Purchase Count</th>        <th class=\"col_heading level0 col1\" >Average Purchase Price</th>        <th class=\"col_heading level0 col2\" >Total Purchase Value</th>    </tr>    <tr>        <th class=\"index_name level0\" >SN</th>        <th class=\"blank\" ></th>        <th class=\"blank\" ></th>        <th class=\"blank\" ></th>    </tr></thead><tbody>\n",
       "                <tr>\n",
       "                        <th id=\"T_dff54_level0_row0\" class=\"row_heading level0 row0\" >Lisosia93</th>\n",
       "                        <td id=\"T_dff54_row0_col0\" class=\"data row0 col0\" >5</td>\n",
       "                        <td id=\"T_dff54_row0_col1\" class=\"data row0 col1\" >$3.79</td>\n",
       "                        <td id=\"T_dff54_row0_col2\" class=\"data row0 col2\" >$18.96</td>\n",
       "            </tr>\n",
       "            <tr>\n",
       "                        <th id=\"T_dff54_level0_row1\" class=\"row_heading level0 row1\" >Idastidru52</th>\n",
       "                        <td id=\"T_dff54_row1_col0\" class=\"data row1 col0\" >4</td>\n",
       "                        <td id=\"T_dff54_row1_col1\" class=\"data row1 col1\" >$3.86</td>\n",
       "                        <td id=\"T_dff54_row1_col2\" class=\"data row1 col2\" >$15.45</td>\n",
       "            </tr>\n",
       "            <tr>\n",
       "                        <th id=\"T_dff54_level0_row2\" class=\"row_heading level0 row2\" >Chamjask73</th>\n",
       "                        <td id=\"T_dff54_row2_col0\" class=\"data row2 col0\" >3</td>\n",
       "                        <td id=\"T_dff54_row2_col1\" class=\"data row2 col1\" >$4.61</td>\n",
       "                        <td id=\"T_dff54_row2_col2\" class=\"data row2 col2\" >$13.83</td>\n",
       "            </tr>\n",
       "            <tr>\n",
       "                        <th id=\"T_dff54_level0_row3\" class=\"row_heading level0 row3\" >Iral74</th>\n",
       "                        <td id=\"T_dff54_row3_col0\" class=\"data row3 col0\" >4</td>\n",
       "                        <td id=\"T_dff54_row3_col1\" class=\"data row3 col1\" >$3.40</td>\n",
       "                        <td id=\"T_dff54_row3_col2\" class=\"data row3 col2\" >$13.62</td>\n",
       "            </tr>\n",
       "            <tr>\n",
       "                        <th id=\"T_dff54_level0_row4\" class=\"row_heading level0 row4\" >Iskadarya95</th>\n",
       "                        <td id=\"T_dff54_row4_col0\" class=\"data row4 col0\" >3</td>\n",
       "                        <td id=\"T_dff54_row4_col1\" class=\"data row4 col1\" >$4.37</td>\n",
       "                        <td id=\"T_dff54_row4_col2\" class=\"data row4 col2\" >$13.10</td>\n",
       "            </tr>\n",
       "    </tbody></table>"
      ],
      "text/plain": [
       "<pandas.io.formats.style.Styler at 0x7ff065d21e20>"
      ]
     },
     "execution_count": 20,
     "metadata": {},
     "output_type": "execute_result"
    }
   ],
   "source": [
    "#create database grouped by player\n",
    "grouped_by_player = purchase_data.groupby([\"SN\"]) \n",
    "\n",
    "#count all purchases made by each player using grouped DF\n",
    "purchase_by_player = pd.DataFrame(grouped_by_player[\"SN\"].count()).rename(columns = {\"SN\": \"Purchase Count\"})\n",
    "\n",
    "#sum all prices from purchases made by each player\n",
    "total_purchase_by_player = pd.DataFrame(grouped_by_player[\"Price\"].sum()).rename(columns = {\"Price\": \"Total Purchase Value\"})\n",
    "\n",
    "#get the average pruchase price per player\n",
    "average_purchase_by_player = pd.DataFrame((grouped_by_player[\"Price\"].sum() / grouped_by_player[\"SN\"].count()))\n",
    "\n",
    "#adding all variables to a unique DF\n",
    "purchase_by_player[\"Average Purchase Price\"] = average_purchase_by_player\n",
    "purchase_by_player[\"Total Purchase Value\"] = total_purchase_by_player\n",
    "\n",
    "#Sorting by total purchase value per player y descending order\n",
    "purchase_by_player.sort_values(by=['Total Purchase Value'], ascending = False, inplace = True)\n",
    "\n",
    "format_dict = {\"Average Purchase Price\": '${:,.2f}', \"Total Purchase Value\": '${:,.2f}'}\n",
    "\n",
    "purchase_by_player.head().style.format(format_dict)\n",
    "\n",
    "\n"
   ]
  },
  {
   "cell_type": "markdown",
   "metadata": {},
   "source": [
    "## Most Popular Items"
   ]
  },
  {
   "cell_type": "markdown",
   "metadata": {},
   "source": [
    "* Retrieve the Item ID, Item Name, and Item Price columns\n",
    "\n",
    "\n",
    "* Group by Item ID and Item Name. Perform calculations to obtain purchase count, average item price, and total purchase value\n",
    "\n",
    "\n",
    "* Create a summary data frame to hold the results\n",
    "\n",
    "\n",
    "* Sort the purchase count column in descending order\n",
    "\n",
    "\n",
    "* Optional: give the displayed data cleaner formatting\n",
    "\n",
    "\n",
    "* Display a preview of the summary data frame\n",
    "\n"
   ]
  },
  {
   "cell_type": "code",
   "execution_count": 21,
   "metadata": {},
   "outputs": [
    {
     "data": {
      "text/html": [
       "<style  type=\"text/css\" >\n",
       "</style><table id=\"T_e8168_\" ><thead>    <tr>        <th class=\"blank\" ></th>        <th class=\"blank level0\" ></th>        <th class=\"col_heading level0 col0\" >Purchase Count</th>        <th class=\"col_heading level0 col1\" >Item Price</th>        <th class=\"col_heading level0 col2\" >Total Purchase Value</th>    </tr>    <tr>        <th class=\"index_name level0\" >Item ID</th>        <th class=\"index_name level1\" >Item Name</th>        <th class=\"blank\" ></th>        <th class=\"blank\" ></th>        <th class=\"blank\" ></th>    </tr></thead><tbody>\n",
       "                <tr>\n",
       "                        <th id=\"T_e8168_level0_row0\" class=\"row_heading level0 row0\" >92</th>\n",
       "                        <th id=\"T_e8168_level1_row0\" class=\"row_heading level1 row0\" >Final Critic</th>\n",
       "                        <td id=\"T_e8168_row0_col0\" class=\"data row0 col0\" >13</td>\n",
       "                        <td id=\"T_e8168_row0_col1\" class=\"data row0 col1\" >$4.61</td>\n",
       "                        <td id=\"T_e8168_row0_col2\" class=\"data row0 col2\" >$59.99</td>\n",
       "            </tr>\n",
       "            <tr>\n",
       "                        <th id=\"T_e8168_level0_row1\" class=\"row_heading level0 row1\" >178</th>\n",
       "                        <th id=\"T_e8168_level1_row1\" class=\"row_heading level1 row1\" >Oathbreaker, Last Hope of the Breaking Storm</th>\n",
       "                        <td id=\"T_e8168_row1_col0\" class=\"data row1 col0\" >12</td>\n",
       "                        <td id=\"T_e8168_row1_col1\" class=\"data row1 col1\" >$4.23</td>\n",
       "                        <td id=\"T_e8168_row1_col2\" class=\"data row1 col2\" >$50.76</td>\n",
       "            </tr>\n",
       "            <tr>\n",
       "                        <th id=\"T_e8168_level0_row2\" class=\"row_heading level0 row2\" >145</th>\n",
       "                        <th id=\"T_e8168_level1_row2\" class=\"row_heading level1 row2\" >Fiery Glass Crusader</th>\n",
       "                        <td id=\"T_e8168_row2_col0\" class=\"data row2 col0\" >9</td>\n",
       "                        <td id=\"T_e8168_row2_col1\" class=\"data row2 col1\" >$4.58</td>\n",
       "                        <td id=\"T_e8168_row2_col2\" class=\"data row2 col2\" >$41.22</td>\n",
       "            </tr>\n",
       "            <tr>\n",
       "                        <th id=\"T_e8168_level0_row3\" class=\"row_heading level0 row3\" >132</th>\n",
       "                        <th id=\"T_e8168_level1_row3\" class=\"row_heading level1 row3\" >Persuasion</th>\n",
       "                        <td id=\"T_e8168_row3_col0\" class=\"data row3 col0\" >9</td>\n",
       "                        <td id=\"T_e8168_row3_col1\" class=\"data row3 col1\" >$3.22</td>\n",
       "                        <td id=\"T_e8168_row3_col2\" class=\"data row3 col2\" >$28.99</td>\n",
       "            </tr>\n",
       "            <tr>\n",
       "                        <th id=\"T_e8168_level0_row4\" class=\"row_heading level0 row4\" >108</th>\n",
       "                        <th id=\"T_e8168_level1_row4\" class=\"row_heading level1 row4\" >Extraction, Quickblade Of Trembling Hands</th>\n",
       "                        <td id=\"T_e8168_row4_col0\" class=\"data row4 col0\" >9</td>\n",
       "                        <td id=\"T_e8168_row4_col1\" class=\"data row4 col1\" >$3.53</td>\n",
       "                        <td id=\"T_e8168_row4_col2\" class=\"data row4 col2\" >$31.77</td>\n",
       "            </tr>\n",
       "    </tbody></table>"
      ],
      "text/plain": [
       "<pandas.io.formats.style.Styler at 0x7ff062f7f100>"
      ]
     },
     "execution_count": 21,
     "metadata": {},
     "output_type": "execute_result"
    }
   ],
   "source": [
    "#Get only the 3 needed columns\n",
    "popular_items = purchase_data[[\"Item ID\", \"Item Name\", \"Price\"]]\n",
    "\n",
    "#Create a Grouped DF by two indexes\n",
    "grouped_popular_items = popular_items.groupby([\"Item ID\",\"Item Name\"])\n",
    "\n",
    "#Count the purchases made by each item\n",
    "popular_items_count = pd.DataFrame(grouped_popular_items[\"Item ID\"].count()).rename(columns = {\"Item ID\": \"Purchase Count\"})\n",
    "\n",
    "#Get the average price by each item\n",
    "popular_items_avg_price = pd.DataFrame(grouped_popular_items[\"Price\"].sum() / grouped_popular_items[\"Item ID\"].count())\n",
    "\n",
    "#Get the total purchased value by each item\n",
    "popular_items_purchase_value = pd.DataFrame(grouped_popular_items[\"Price\"].sum())\n",
    "\n",
    "#add data to a single dataframe\n",
    "popular_items_count[\"Item Price\"] = popular_items_avg_price\n",
    "popular_items_count[\"Total Purchase Value\"] = popular_items_purchase_value\n",
    "\n",
    "#Sort the dataframe by the total value in descending order\n",
    "popular_items_count.sort_values(by=['Purchase Count'], ascending = False, inplace = True)\n",
    "\n",
    "#define the formatting dictionary for the final print\n",
    "format_dict = {\"Item Price\": '${:,.2f}', \"Total Purchase Value\": '${:,.2f}'}\n",
    "\n",
    "#apply style and print only top 5 records\n",
    "popular_items_count.head().style.format(format_dict)\n"
   ]
  },
  {
   "cell_type": "markdown",
   "metadata": {},
   "source": [
    "## Most Profitable Items"
   ]
  },
  {
   "cell_type": "markdown",
   "metadata": {},
   "source": [
    "* Sort the above table by total purchase value in descending order\n",
    "\n",
    "\n",
    "* Optional: give the displayed data cleaner formatting\n",
    "\n",
    "\n",
    "* Display a preview of the data frame\n",
    "\n"
   ]
  },
  {
   "cell_type": "code",
   "execution_count": 22,
   "metadata": {
    "scrolled": true
   },
   "outputs": [
    {
     "data": {
      "text/html": [
       "<style  type=\"text/css\" >\n",
       "</style><table id=\"T_a6806_\" ><thead>    <tr>        <th class=\"blank\" ></th>        <th class=\"blank level0\" ></th>        <th class=\"col_heading level0 col0\" >Purchase Count</th>        <th class=\"col_heading level0 col1\" >Item Price</th>        <th class=\"col_heading level0 col2\" >Total Purchase Value</th>    </tr>    <tr>        <th class=\"index_name level0\" >Item ID</th>        <th class=\"index_name level1\" >Item Name</th>        <th class=\"blank\" ></th>        <th class=\"blank\" ></th>        <th class=\"blank\" ></th>    </tr></thead><tbody>\n",
       "                <tr>\n",
       "                        <th id=\"T_a6806_level0_row0\" class=\"row_heading level0 row0\" >92</th>\n",
       "                        <th id=\"T_a6806_level1_row0\" class=\"row_heading level1 row0\" >Final Critic</th>\n",
       "                        <td id=\"T_a6806_row0_col0\" class=\"data row0 col0\" >13</td>\n",
       "                        <td id=\"T_a6806_row0_col1\" class=\"data row0 col1\" >$4.61</td>\n",
       "                        <td id=\"T_a6806_row0_col2\" class=\"data row0 col2\" >$59.99</td>\n",
       "            </tr>\n",
       "            <tr>\n",
       "                        <th id=\"T_a6806_level0_row1\" class=\"row_heading level0 row1\" >178</th>\n",
       "                        <th id=\"T_a6806_level1_row1\" class=\"row_heading level1 row1\" >Oathbreaker, Last Hope of the Breaking Storm</th>\n",
       "                        <td id=\"T_a6806_row1_col0\" class=\"data row1 col0\" >12</td>\n",
       "                        <td id=\"T_a6806_row1_col1\" class=\"data row1 col1\" >$4.23</td>\n",
       "                        <td id=\"T_a6806_row1_col2\" class=\"data row1 col2\" >$50.76</td>\n",
       "            </tr>\n",
       "            <tr>\n",
       "                        <th id=\"T_a6806_level0_row2\" class=\"row_heading level0 row2\" >82</th>\n",
       "                        <th id=\"T_a6806_level1_row2\" class=\"row_heading level1 row2\" >Nirvana</th>\n",
       "                        <td id=\"T_a6806_row2_col0\" class=\"data row2 col0\" >9</td>\n",
       "                        <td id=\"T_a6806_row2_col1\" class=\"data row2 col1\" >$4.90</td>\n",
       "                        <td id=\"T_a6806_row2_col2\" class=\"data row2 col2\" >$44.10</td>\n",
       "            </tr>\n",
       "            <tr>\n",
       "                        <th id=\"T_a6806_level0_row3\" class=\"row_heading level0 row3\" >145</th>\n",
       "                        <th id=\"T_a6806_level1_row3\" class=\"row_heading level1 row3\" >Fiery Glass Crusader</th>\n",
       "                        <td id=\"T_a6806_row3_col0\" class=\"data row3 col0\" >9</td>\n",
       "                        <td id=\"T_a6806_row3_col1\" class=\"data row3 col1\" >$4.58</td>\n",
       "                        <td id=\"T_a6806_row3_col2\" class=\"data row3 col2\" >$41.22</td>\n",
       "            </tr>\n",
       "            <tr>\n",
       "                        <th id=\"T_a6806_level0_row4\" class=\"row_heading level0 row4\" >103</th>\n",
       "                        <th id=\"T_a6806_level1_row4\" class=\"row_heading level1 row4\" >Singed Scalpel</th>\n",
       "                        <td id=\"T_a6806_row4_col0\" class=\"data row4 col0\" >8</td>\n",
       "                        <td id=\"T_a6806_row4_col1\" class=\"data row4 col1\" >$4.35</td>\n",
       "                        <td id=\"T_a6806_row4_col2\" class=\"data row4 col2\" >$34.80</td>\n",
       "            </tr>\n",
       "    </tbody></table>"
      ],
      "text/plain": [
       "<pandas.io.formats.style.Styler at 0x7ff06735d700>"
      ]
     },
     "execution_count": 22,
     "metadata": {},
     "output_type": "execute_result"
    }
   ],
   "source": [
    "#Sort the dataframe by item price in descending order\n",
    "most_profitable_items = popular_items_count.sort_values(by=['Total Purchase Value'], ascending = False)\n",
    "\n",
    "#define the formatting dictionary for the final print\n",
    "format_dict = {\"Item Price\": '${:,.2f}', \"Total Purchase Value\": '${:,.2f}'}\n",
    "\n",
    "#apply style and print only top 5 records\n",
    "most_profitable_items.head().style.format(format_dict)"
   ]
  }
 ],
 "metadata": {
  "anaconda-cloud": {},
  "kernel_info": {
   "name": "python3"
  },
  "kernelspec": {
   "display_name": "Python 3",
   "language": "python",
   "name": "python3"
  },
  "language_info": {
   "codemirror_mode": {
    "name": "ipython",
    "version": 3
   },
   "file_extension": ".py",
   "mimetype": "text/x-python",
   "name": "python",
   "nbconvert_exporter": "python",
   "pygments_lexer": "ipython3",
   "version": "3.8.5"
  },
  "latex_envs": {
   "LaTeX_envs_menu_present": true,
   "autoclose": false,
   "autocomplete": true,
   "bibliofile": "biblio.bib",
   "cite_by": "apalike",
   "current_citInitial": 1,
   "eqLabelWithNumbers": true,
   "eqNumInitial": 1,
   "hotkeys": {
    "equation": "Ctrl-E",
    "itemize": "Ctrl-I"
   },
   "labels_anchors": false,
   "latex_user_defs": false,
   "report_style_numbering": false,
   "user_envs_cfg": false
  },
  "nteract": {
   "version": "0.2.0"
  }
 },
 "nbformat": 4,
 "nbformat_minor": 2
}
